{
 "cells": [
  {
   "cell_type": "markdown",
   "id": "6yDxo9u0d9Na",
   "metadata": {
    "id": "6yDxo9u0d9Na"
   },
   "source": [
    "# Project Business Statistics: E-news Express\n"
   ]
  },
  {
   "cell_type": "markdown",
   "id": "SrLd-ICEmPSD",
   "metadata": {
    "id": "SrLd-ICEmPSD"
   },
   "source": [
    "## Define Problem Statement and Objectives"
   ]
  },
  {
   "cell_type": "markdown",
   "id": "NqikjkWwJY_L",
   "metadata": {
    "id": "NqikjkWwJY_L"
   },
   "source": [
    "### Business Context\n",
    "\n",
    "The advent of e-news, or electronic news, portals has offered us a great opportunity to quickly get updates on the day-to-day events occurring globally. The information on these portals is retrieved electronically from online databases, processed using a variety of software, and then transmitted to the users. There are multiple advantages of transmitting new electronically, like faster access to the content and the ability to utilize different technologies such as audio, graphics, video, and other interactive elements that are either not being used or aren’t common yet in traditional newspapers.\n",
    "\n",
    "E-news Express, an online news portal, aims to expand its business by acquiring new subscribers. With every visitor to the website taking certain actions based on their interest, the company plans to analyze these actions to understand user interests and determine how to drive better engagement. The executives at E-news Express are of the opinion that there has been a decline in new monthly subscribers compared to the past year because the current webpage is not designed well enough in terms of the outline & recommended content to keep customers engaged long enough to make a decision to subscribe.\n",
    "\n",
    "[Companies often analyze user responses to two variants of a product to decide which of the two variants is more effective. This experimental technique, known as A/B testing, is used to determine whether a new feature attracts users based on a chosen metric.]\n",
    "\n",
    "### Objective\n",
    "\n",
    "The design team of the company has researched and created a new landing page that has a new outline & more relevant content shown compared to the old page. In order to test the effectiveness of the new landing page in gathering new subscribers, the Data Science team conducted an experiment by randomly selecting 100 users and dividing them equally into two groups. The existing landing page was served to the first group (control group) and the new landing page to the second group (treatment group). Data regarding the interaction of users in both groups with the two versions of the landing page was collected. Being a data scientist in E-news Express, you have been asked to explore the data and perform a statistical analysis (at a significance level of 5%) to determine the effectiveness of the new landing page in gathering new subscribers for the news portal by answering the following questions:\n",
    "\n",
    "1. Do the users spend more time on the new landing page than on the existing landing page?\n",
    "\n",
    "2. Is the conversion rate (the proportion of users who visit the landing page and get converted) for the new page greater than the conversion rate for the old page?\n",
    "\n",
    "3. Does the converted status depend on the preferred language? [Hint: Create a contingency table using the pandas.crosstab() function]\n",
    "\n",
    "4. Is the time spent on the new page the same for the different language users?\n",
    "\n",
    "### Data Description\n",
    "\n",
    "The data contains information regarding the interaction of users in both groups with the two versions of the the ENews Express landing page. The detailed data dictionary is given below.\n",
    "\n",
    "### Data Dictionary\n",
    "\n",
    "1. user_id - Unique user ID of the person visiting the website\n",
    "\n",
    "2. group - Whether the user belongs to the first group (control) or the second group (treatment)\n",
    "\n",
    "3. landing_page - Whether the landing page is new or old\n",
    "\n",
    "4. time_spent_on_the_page - Time (in minutes) spent by the user on the landing page\n",
    "\n",
    "5. converted - Whether the user gets converted to a subscriber of the news portal or not\n",
    "\n",
    "6. language_preferred - Language chosen by the user to view the landing page"
   ]
  },
  {
   "cell_type": "markdown",
   "id": "a6a3d218",
   "metadata": {
    "id": "a6a3d218"
   },
   "source": [
    "## Import all the necessary libraries"
   ]
  },
  {
   "cell_type": "markdown",
   "id": "7ueES9WOzI5X",
   "metadata": {
    "id": "7ueES9WOzI5X"
   },
   "source": [
    "**Coded by**:\n",
    "*Joseph Anyanwu*"
   ]
  },
  {
   "cell_type": "code",
   "execution_count": null,
   "id": "r_5zUIePGS-1",
   "metadata": {
    "id": "r_5zUIePGS-1"
   },
   "outputs": [],
   "source": [
    "# Installing the libraries with the specified version.\n",
    "!pip install numpy==1.26.2 pandas==2.1.3 matplotlib==3.8.2 seaborn==0.13.0 scipy==1.11.4 -q --user"
   ]
  },
  {
   "cell_type": "markdown",
   "id": "DAaycw-QP-j9",
   "metadata": {
    "id": "DAaycw-QP-j9"
   },
   "source": [
    "**Note**: *After running the above cell, kindly restart the notebook kernel and run all cells sequentially from the start again.*"
   ]
  },
  {
   "cell_type": "code",
   "execution_count": 1,
   "id": "3e75ec8a-ce4b-4448-ac8d-cb37b66b1d5b",
   "metadata": {},
   "outputs": [],
   "source": [
    "# defining the location where the data is stored\n",
    "file_path = 'C:/Users/josep/Downloads/abtest.csv'"
   ]
  },
  {
   "cell_type": "code",
   "execution_count": 3,
   "id": "54nDnBEuMY76",
   "metadata": {
    "id": "54nDnBEuMY76"
   },
   "outputs": [],
   "source": [
    "import numpy as np\n",
    "import pandas as pd\n",
    "\n",
    "# import libraries for data visualization\n",
    "import matplotlib.pyplot as plt\n",
    "import seaborn as sns\n",
    "import scipy.stats as stats"
   ]
  },
  {
   "cell_type": "markdown",
   "id": "6970dd99",
   "metadata": {
    "id": "6970dd99"
   },
   "source": [
    "## Reading the Data into a DataFrame"
   ]
  },
  {
   "cell_type": "code",
   "execution_count": 5,
   "id": "d3b95640",
   "metadata": {
    "id": "d3b95640"
   },
   "outputs": [],
   "source": [
    "df = pd.read_csv(file_path)"
   ]
  },
  {
   "cell_type": "markdown",
   "id": "9d75cfa2",
   "metadata": {
    "id": "9d75cfa2"
   },
   "source": [
    "## Explore the dataset and extract insights using Exploratory Data Analysis"
   ]
  },
  {
   "cell_type": "markdown",
   "id": "27201534",
   "metadata": {
    "id": "27201534"
   },
   "source": [
    "- Data Overview\n",
    "  - Viewing the first and last few rows of the dataset\n",
    "  - Checking the shape of the dataset\n",
    "  - Getting the statistical summary for the variables\n",
    "- Check for missing values\n",
    "- Check for duplicates"
   ]
  },
  {
   "cell_type": "code",
   "execution_count": 7,
   "id": "TvJMgYIaNxNF",
   "metadata": {
    "colab": {
     "base_uri": "https://localhost:8080/",
     "height": 206
    },
    "id": "TvJMgYIaNxNF",
    "outputId": "d95f7272-07e7-4909-dd32-05c83f994983"
   },
   "outputs": [
    {
     "data": {
      "text/html": [
       "<div>\n",
       "<style scoped>\n",
       "    .dataframe tbody tr th:only-of-type {\n",
       "        vertical-align: middle;\n",
       "    }\n",
       "\n",
       "    .dataframe tbody tr th {\n",
       "        vertical-align: top;\n",
       "    }\n",
       "\n",
       "    .dataframe thead th {\n",
       "        text-align: right;\n",
       "    }\n",
       "</style>\n",
       "<table border=\"1\" class=\"dataframe\">\n",
       "  <thead>\n",
       "    <tr style=\"text-align: right;\">\n",
       "      <th></th>\n",
       "      <th>user_id</th>\n",
       "      <th>group</th>\n",
       "      <th>landing_page</th>\n",
       "      <th>time_spent_on_the_page</th>\n",
       "      <th>converted</th>\n",
       "      <th>language_preferred</th>\n",
       "    </tr>\n",
       "  </thead>\n",
       "  <tbody>\n",
       "    <tr>\n",
       "      <th>0</th>\n",
       "      <td>546592</td>\n",
       "      <td>control</td>\n",
       "      <td>old</td>\n",
       "      <td>3.48</td>\n",
       "      <td>no</td>\n",
       "      <td>Spanish</td>\n",
       "    </tr>\n",
       "    <tr>\n",
       "      <th>1</th>\n",
       "      <td>546468</td>\n",
       "      <td>treatment</td>\n",
       "      <td>new</td>\n",
       "      <td>7.13</td>\n",
       "      <td>yes</td>\n",
       "      <td>English</td>\n",
       "    </tr>\n",
       "    <tr>\n",
       "      <th>2</th>\n",
       "      <td>546462</td>\n",
       "      <td>treatment</td>\n",
       "      <td>new</td>\n",
       "      <td>4.40</td>\n",
       "      <td>no</td>\n",
       "      <td>Spanish</td>\n",
       "    </tr>\n",
       "    <tr>\n",
       "      <th>3</th>\n",
       "      <td>546567</td>\n",
       "      <td>control</td>\n",
       "      <td>old</td>\n",
       "      <td>3.02</td>\n",
       "      <td>no</td>\n",
       "      <td>French</td>\n",
       "    </tr>\n",
       "    <tr>\n",
       "      <th>4</th>\n",
       "      <td>546459</td>\n",
       "      <td>treatment</td>\n",
       "      <td>new</td>\n",
       "      <td>4.75</td>\n",
       "      <td>yes</td>\n",
       "      <td>Spanish</td>\n",
       "    </tr>\n",
       "  </tbody>\n",
       "</table>\n",
       "</div>"
      ],
      "text/plain": [
       "   user_id      group landing_page  time_spent_on_the_page converted  \\\n",
       "0   546592    control          old                    3.48        no   \n",
       "1   546468  treatment          new                    7.13       yes   \n",
       "2   546462  treatment          new                    4.40        no   \n",
       "3   546567    control          old                    3.02        no   \n",
       "4   546459  treatment          new                    4.75       yes   \n",
       "\n",
       "  language_preferred  \n",
       "0            Spanish  \n",
       "1            English  \n",
       "2            Spanish  \n",
       "3             French  \n",
       "4            Spanish  "
      ]
     },
     "execution_count": 7,
     "metadata": {},
     "output_type": "execute_result"
    }
   ],
   "source": [
    "#Viewing the first five rows of the dataset\n",
    "df.head()"
   ]
  },
  {
   "cell_type": "code",
   "execution_count": null,
   "id": "kVgGMrKbPbBK",
   "metadata": {
    "colab": {
     "base_uri": "https://localhost:8080/",
     "height": 206
    },
    "id": "kVgGMrKbPbBK",
    "outputId": "065a0740-0c5e-42a8-c78b-17dbbb467897"
   },
   "outputs": [
    {
     "data": {
      "application/vnd.google.colaboratory.intrinsic+json": {
       "summary": "{\n  \"name\": \"df\",\n  \"rows\": 5,\n  \"fields\": [\n    {\n      \"column\": \"user_id\",\n      \"properties\": {\n        \"dtype\": \"number\",\n        \"std\": 36,\n        \"min\": 546446,\n        \"max\": 546544,\n        \"num_unique_values\": 5,\n        \"samples\": [\n          546544,\n          546483,\n          546472\n        ],\n        \"semantic_type\": \"\",\n        \"description\": \"\"\n      }\n    },\n    {\n      \"column\": \"group\",\n      \"properties\": {\n        \"dtype\": \"category\",\n        \"num_unique_values\": 2,\n        \"samples\": [\n          \"control\",\n          \"treatment\"\n        ],\n        \"semantic_type\": \"\",\n        \"description\": \"\"\n      }\n    },\n    {\n      \"column\": \"landing_page\",\n      \"properties\": {\n        \"dtype\": \"category\",\n        \"num_unique_values\": 2,\n        \"samples\": [\n          \"old\",\n          \"new\"\n        ],\n        \"semantic_type\": \"\",\n        \"description\": \"\"\n      }\n    },\n    {\n      \"column\": \"time_spent_on_the_page\",\n      \"properties\": {\n        \"dtype\": \"number\",\n        \"std\": 0.7192704637339141,\n        \"min\": 5.15,\n        \"max\": 7.07,\n        \"num_unique_values\": 5,\n        \"samples\": [\n          6.52,\n          5.86\n        ],\n        \"semantic_type\": \"\",\n        \"description\": \"\"\n      }\n    },\n    {\n      \"column\": \"converted\",\n      \"properties\": {\n        \"dtype\": \"category\",\n        \"num_unique_values\": 2,\n        \"samples\": [\n          \"yes\",\n          \"no\"\n        ],\n        \"semantic_type\": \"\",\n        \"description\": \"\"\n      }\n    },\n    {\n      \"column\": \"language_preferred\",\n      \"properties\": {\n        \"dtype\": \"category\",\n        \"num_unique_values\": 2,\n        \"samples\": [\n          \"English\",\n          \"Spanish\"\n        ],\n        \"semantic_type\": \"\",\n        \"description\": \"\"\n      }\n    }\n  ]\n}",
       "type": "dataframe"
      },
      "text/html": [
       "\n",
       "  <div id=\"df-dac4d8ac-70e7-4c7d-8f86-54f3b4f56d8d\" class=\"colab-df-container\">\n",
       "    <div>\n",
       "<style scoped>\n",
       "    .dataframe tbody tr th:only-of-type {\n",
       "        vertical-align: middle;\n",
       "    }\n",
       "\n",
       "    .dataframe tbody tr th {\n",
       "        vertical-align: top;\n",
       "    }\n",
       "\n",
       "    .dataframe thead th {\n",
       "        text-align: right;\n",
       "    }\n",
       "</style>\n",
       "<table border=\"1\" class=\"dataframe\">\n",
       "  <thead>\n",
       "    <tr style=\"text-align: right;\">\n",
       "      <th></th>\n",
       "      <th>user_id</th>\n",
       "      <th>group</th>\n",
       "      <th>landing_page</th>\n",
       "      <th>time_spent_on_the_page</th>\n",
       "      <th>converted</th>\n",
       "      <th>language_preferred</th>\n",
       "    </tr>\n",
       "  </thead>\n",
       "  <tbody>\n",
       "    <tr>\n",
       "      <th>95</th>\n",
       "      <td>546446</td>\n",
       "      <td>treatment</td>\n",
       "      <td>new</td>\n",
       "      <td>5.15</td>\n",
       "      <td>no</td>\n",
       "      <td>Spanish</td>\n",
       "    </tr>\n",
       "    <tr>\n",
       "      <th>96</th>\n",
       "      <td>546544</td>\n",
       "      <td>control</td>\n",
       "      <td>old</td>\n",
       "      <td>6.52</td>\n",
       "      <td>yes</td>\n",
       "      <td>English</td>\n",
       "    </tr>\n",
       "    <tr>\n",
       "      <th>97</th>\n",
       "      <td>546472</td>\n",
       "      <td>treatment</td>\n",
       "      <td>new</td>\n",
       "      <td>7.07</td>\n",
       "      <td>yes</td>\n",
       "      <td>Spanish</td>\n",
       "    </tr>\n",
       "    <tr>\n",
       "      <th>98</th>\n",
       "      <td>546481</td>\n",
       "      <td>treatment</td>\n",
       "      <td>new</td>\n",
       "      <td>6.20</td>\n",
       "      <td>yes</td>\n",
       "      <td>Spanish</td>\n",
       "    </tr>\n",
       "    <tr>\n",
       "      <th>99</th>\n",
       "      <td>546483</td>\n",
       "      <td>treatment</td>\n",
       "      <td>new</td>\n",
       "      <td>5.86</td>\n",
       "      <td>yes</td>\n",
       "      <td>English</td>\n",
       "    </tr>\n",
       "  </tbody>\n",
       "</table>\n",
       "</div>\n",
       "    <div class=\"colab-df-buttons\">\n",
       "\n",
       "  <div class=\"colab-df-container\">\n",
       "    <button class=\"colab-df-convert\" onclick=\"convertToInteractive('df-dac4d8ac-70e7-4c7d-8f86-54f3b4f56d8d')\"\n",
       "            title=\"Convert this dataframe to an interactive table.\"\n",
       "            style=\"display:none;\">\n",
       "\n",
       "  <svg xmlns=\"http://www.w3.org/2000/svg\" height=\"24px\" viewBox=\"0 -960 960 960\">\n",
       "    <path d=\"M120-120v-720h720v720H120Zm60-500h600v-160H180v160Zm220 220h160v-160H400v160Zm0 220h160v-160H400v160ZM180-400h160v-160H180v160Zm440 0h160v-160H620v160ZM180-180h160v-160H180v160Zm440 0h160v-160H620v160Z\"/>\n",
       "  </svg>\n",
       "    </button>\n",
       "\n",
       "  <style>\n",
       "    .colab-df-container {\n",
       "      display:flex;\n",
       "      gap: 12px;\n",
       "    }\n",
       "\n",
       "    .colab-df-convert {\n",
       "      background-color: #E8F0FE;\n",
       "      border: none;\n",
       "      border-radius: 50%;\n",
       "      cursor: pointer;\n",
       "      display: none;\n",
       "      fill: #1967D2;\n",
       "      height: 32px;\n",
       "      padding: 0 0 0 0;\n",
       "      width: 32px;\n",
       "    }\n",
       "\n",
       "    .colab-df-convert:hover {\n",
       "      background-color: #E2EBFA;\n",
       "      box-shadow: 0px 1px 2px rgba(60, 64, 67, 0.3), 0px 1px 3px 1px rgba(60, 64, 67, 0.15);\n",
       "      fill: #174EA6;\n",
       "    }\n",
       "\n",
       "    .colab-df-buttons div {\n",
       "      margin-bottom: 4px;\n",
       "    }\n",
       "\n",
       "    [theme=dark] .colab-df-convert {\n",
       "      background-color: #3B4455;\n",
       "      fill: #D2E3FC;\n",
       "    }\n",
       "\n",
       "    [theme=dark] .colab-df-convert:hover {\n",
       "      background-color: #434B5C;\n",
       "      box-shadow: 0px 1px 3px 1px rgba(0, 0, 0, 0.15);\n",
       "      filter: drop-shadow(0px 1px 2px rgba(0, 0, 0, 0.3));\n",
       "      fill: #FFFFFF;\n",
       "    }\n",
       "  </style>\n",
       "\n",
       "    <script>\n",
       "      const buttonEl =\n",
       "        document.querySelector('#df-dac4d8ac-70e7-4c7d-8f86-54f3b4f56d8d button.colab-df-convert');\n",
       "      buttonEl.style.display =\n",
       "        google.colab.kernel.accessAllowed ? 'block' : 'none';\n",
       "\n",
       "      async function convertToInteractive(key) {\n",
       "        const element = document.querySelector('#df-dac4d8ac-70e7-4c7d-8f86-54f3b4f56d8d');\n",
       "        const dataTable =\n",
       "          await google.colab.kernel.invokeFunction('convertToInteractive',\n",
       "                                                    [key], {});\n",
       "        if (!dataTable) return;\n",
       "\n",
       "        const docLinkHtml = 'Like what you see? Visit the ' +\n",
       "          '<a target=\"_blank\" href=https://colab.research.google.com/notebooks/data_table.ipynb>data table notebook</a>'\n",
       "          + ' to learn more about interactive tables.';\n",
       "        element.innerHTML = '';\n",
       "        dataTable['output_type'] = 'display_data';\n",
       "        await google.colab.output.renderOutput(dataTable, element);\n",
       "        const docLink = document.createElement('div');\n",
       "        docLink.innerHTML = docLinkHtml;\n",
       "        element.appendChild(docLink);\n",
       "      }\n",
       "    </script>\n",
       "  </div>\n",
       "\n",
       "\n",
       "<div id=\"df-98c0491b-0aee-4bf7-aa05-86570d7faa9e\">\n",
       "  <button class=\"colab-df-quickchart\" onclick=\"quickchart('df-98c0491b-0aee-4bf7-aa05-86570d7faa9e')\"\n",
       "            title=\"Suggest charts\"\n",
       "            style=\"display:none;\">\n",
       "\n",
       "<svg xmlns=\"http://www.w3.org/2000/svg\" height=\"24px\"viewBox=\"0 0 24 24\"\n",
       "     width=\"24px\">\n",
       "    <g>\n",
       "        <path d=\"M19 3H5c-1.1 0-2 .9-2 2v14c0 1.1.9 2 2 2h14c1.1 0 2-.9 2-2V5c0-1.1-.9-2-2-2zM9 17H7v-7h2v7zm4 0h-2V7h2v10zm4 0h-2v-4h2v4z\"/>\n",
       "    </g>\n",
       "</svg>\n",
       "  </button>\n",
       "\n",
       "<style>\n",
       "  .colab-df-quickchart {\n",
       "      --bg-color: #E8F0FE;\n",
       "      --fill-color: #1967D2;\n",
       "      --hover-bg-color: #E2EBFA;\n",
       "      --hover-fill-color: #174EA6;\n",
       "      --disabled-fill-color: #AAA;\n",
       "      --disabled-bg-color: #DDD;\n",
       "  }\n",
       "\n",
       "  [theme=dark] .colab-df-quickchart {\n",
       "      --bg-color: #3B4455;\n",
       "      --fill-color: #D2E3FC;\n",
       "      --hover-bg-color: #434B5C;\n",
       "      --hover-fill-color: #FFFFFF;\n",
       "      --disabled-bg-color: #3B4455;\n",
       "      --disabled-fill-color: #666;\n",
       "  }\n",
       "\n",
       "  .colab-df-quickchart {\n",
       "    background-color: var(--bg-color);\n",
       "    border: none;\n",
       "    border-radius: 50%;\n",
       "    cursor: pointer;\n",
       "    display: none;\n",
       "    fill: var(--fill-color);\n",
       "    height: 32px;\n",
       "    padding: 0;\n",
       "    width: 32px;\n",
       "  }\n",
       "\n",
       "  .colab-df-quickchart:hover {\n",
       "    background-color: var(--hover-bg-color);\n",
       "    box-shadow: 0 1px 2px rgba(60, 64, 67, 0.3), 0 1px 3px 1px rgba(60, 64, 67, 0.15);\n",
       "    fill: var(--button-hover-fill-color);\n",
       "  }\n",
       "\n",
       "  .colab-df-quickchart-complete:disabled,\n",
       "  .colab-df-quickchart-complete:disabled:hover {\n",
       "    background-color: var(--disabled-bg-color);\n",
       "    fill: var(--disabled-fill-color);\n",
       "    box-shadow: none;\n",
       "  }\n",
       "\n",
       "  .colab-df-spinner {\n",
       "    border: 2px solid var(--fill-color);\n",
       "    border-color: transparent;\n",
       "    border-bottom-color: var(--fill-color);\n",
       "    animation:\n",
       "      spin 1s steps(1) infinite;\n",
       "  }\n",
       "\n",
       "  @keyframes spin {\n",
       "    0% {\n",
       "      border-color: transparent;\n",
       "      border-bottom-color: var(--fill-color);\n",
       "      border-left-color: var(--fill-color);\n",
       "    }\n",
       "    20% {\n",
       "      border-color: transparent;\n",
       "      border-left-color: var(--fill-color);\n",
       "      border-top-color: var(--fill-color);\n",
       "    }\n",
       "    30% {\n",
       "      border-color: transparent;\n",
       "      border-left-color: var(--fill-color);\n",
       "      border-top-color: var(--fill-color);\n",
       "      border-right-color: var(--fill-color);\n",
       "    }\n",
       "    40% {\n",
       "      border-color: transparent;\n",
       "      border-right-color: var(--fill-color);\n",
       "      border-top-color: var(--fill-color);\n",
       "    }\n",
       "    60% {\n",
       "      border-color: transparent;\n",
       "      border-right-color: var(--fill-color);\n",
       "    }\n",
       "    80% {\n",
       "      border-color: transparent;\n",
       "      border-right-color: var(--fill-color);\n",
       "      border-bottom-color: var(--fill-color);\n",
       "    }\n",
       "    90% {\n",
       "      border-color: transparent;\n",
       "      border-bottom-color: var(--fill-color);\n",
       "    }\n",
       "  }\n",
       "</style>\n",
       "\n",
       "  <script>\n",
       "    async function quickchart(key) {\n",
       "      const quickchartButtonEl =\n",
       "        document.querySelector('#' + key + ' button');\n",
       "      quickchartButtonEl.disabled = true;  // To prevent multiple clicks.\n",
       "      quickchartButtonEl.classList.add('colab-df-spinner');\n",
       "      try {\n",
       "        const charts = await google.colab.kernel.invokeFunction(\n",
       "            'suggestCharts', [key], {});\n",
       "      } catch (error) {\n",
       "        console.error('Error during call to suggestCharts:', error);\n",
       "      }\n",
       "      quickchartButtonEl.classList.remove('colab-df-spinner');\n",
       "      quickchartButtonEl.classList.add('colab-df-quickchart-complete');\n",
       "    }\n",
       "    (() => {\n",
       "      let quickchartButtonEl =\n",
       "        document.querySelector('#df-98c0491b-0aee-4bf7-aa05-86570d7faa9e button');\n",
       "      quickchartButtonEl.style.display =\n",
       "        google.colab.kernel.accessAllowed ? 'block' : 'none';\n",
       "    })();\n",
       "  </script>\n",
       "</div>\n",
       "\n",
       "    </div>\n",
       "  </div>\n"
      ],
      "text/plain": [
       "    user_id      group landing_page  time_spent_on_the_page converted  \\\n",
       "95   546446  treatment          new                    5.15        no   \n",
       "96   546544    control          old                    6.52       yes   \n",
       "97   546472  treatment          new                    7.07       yes   \n",
       "98   546481  treatment          new                    6.20       yes   \n",
       "99   546483  treatment          new                    5.86       yes   \n",
       "\n",
       "   language_preferred  \n",
       "95            Spanish  \n",
       "96            English  \n",
       "97            Spanish  \n",
       "98            Spanish  \n",
       "99            English  "
      ]
     },
     "execution_count": 15,
     "metadata": {},
     "output_type": "execute_result"
    }
   ],
   "source": [
    "#Viewing the last five rows of the dataset\n",
    "df.tail()"
   ]
  },
  {
   "cell_type": "code",
   "execution_count": null,
   "id": "CQcWI9DeNFaW",
   "metadata": {
    "colab": {
     "base_uri": "https://localhost:8080/"
    },
    "id": "CQcWI9DeNFaW",
    "outputId": "994d3f80-0381-40e6-e30d-92f09292cc56"
   },
   "outputs": [
    {
     "name": "stdout",
     "output_type": "stream",
     "text": [
      "<class 'pandas.core.frame.DataFrame'>\n",
      "RangeIndex: 100 entries, 0 to 99\n",
      "Data columns (total 6 columns):\n",
      " #   Column                  Non-Null Count  Dtype  \n",
      "---  ------                  --------------  -----  \n",
      " 0   user_id                 100 non-null    int64  \n",
      " 1   group                   100 non-null    object \n",
      " 2   landing_page            100 non-null    object \n",
      " 3   time_spent_on_the_page  100 non-null    float64\n",
      " 4   converted               100 non-null    object \n",
      " 5   language_preferred      100 non-null    object \n",
      "dtypes: float64(1), int64(1), object(4)\n",
      "memory usage: 4.8+ KB\n"
     ]
    }
   ],
   "source": [
    "# check for datatypes of columns in the dataset\n",
    "df.info()"
   ]
  },
  {
   "cell_type": "code",
   "execution_count": null,
   "id": "2oNGbe3aOGHA",
   "metadata": {
    "colab": {
     "base_uri": "https://localhost:8080/"
    },
    "id": "2oNGbe3aOGHA",
    "outputId": "39e016e0-6aa4-4c65-d921-d39b1c3eafb0"
   },
   "outputs": [
    {
     "name": "stdout",
     "output_type": "stream",
     "text": [
      "The data has 100 rows and 6 columns.\n"
     ]
    }
   ],
   "source": [
    "# to get the number of rows and columns respectively in a tuple\n",
    "print(f\"The data has {df.shape[0]} rows and {df.shape[1]} columns.\")"
   ]
  },
  {
   "cell_type": "code",
   "execution_count": null,
   "id": "Em_EdoAHOgux",
   "metadata": {
    "colab": {
     "base_uri": "https://localhost:8080/",
     "height": 300
    },
    "id": "Em_EdoAHOgux",
    "outputId": "dfabe207-5b18-42b7-9190-59bf1cffbe4d"
   },
   "outputs": [
    {
     "data": {
      "application/vnd.google.colaboratory.intrinsic+json": {
       "summary": "{\n  \"name\": \"df\",\n  \"rows\": 8,\n  \"fields\": [\n    {\n      \"column\": \"user_id\",\n      \"properties\": {\n        \"dtype\": \"number\",\n        \"std\": 252951.23119736963,\n        \"min\": 52.29577884350213,\n        \"max\": 546592.0,\n        \"num_unique_values\": 8,\n        \"samples\": [\n          546517.0,\n          546492.5,\n          100.0\n        ],\n        \"semantic_type\": \"\",\n        \"description\": \"\"\n      }\n    },\n    {\n      \"column\": \"time_spent_on_the_page\",\n      \"properties\": {\n        \"dtype\": \"number\",\n        \"std\": 33.733788000034416,\n        \"min\": 0.19,\n        \"max\": 100.0,\n        \"num_unique_values\": 8,\n        \"samples\": [\n          5.377800000000001,\n          5.415,\n          100.0\n        ],\n        \"semantic_type\": \"\",\n        \"description\": \"\"\n      }\n    }\n  ]\n}",
       "type": "dataframe"
      },
      "text/html": [
       "\n",
       "  <div id=\"df-7bce444d-a532-411b-841e-4dee4dc2f7b1\" class=\"colab-df-container\">\n",
       "    <div>\n",
       "<style scoped>\n",
       "    .dataframe tbody tr th:only-of-type {\n",
       "        vertical-align: middle;\n",
       "    }\n",
       "\n",
       "    .dataframe tbody tr th {\n",
       "        vertical-align: top;\n",
       "    }\n",
       "\n",
       "    .dataframe thead th {\n",
       "        text-align: right;\n",
       "    }\n",
       "</style>\n",
       "<table border=\"1\" class=\"dataframe\">\n",
       "  <thead>\n",
       "    <tr style=\"text-align: right;\">\n",
       "      <th></th>\n",
       "      <th>user_id</th>\n",
       "      <th>time_spent_on_the_page</th>\n",
       "    </tr>\n",
       "  </thead>\n",
       "  <tbody>\n",
       "    <tr>\n",
       "      <th>count</th>\n",
       "      <td>100.000000</td>\n",
       "      <td>100.000000</td>\n",
       "    </tr>\n",
       "    <tr>\n",
       "      <th>mean</th>\n",
       "      <td>546517.000000</td>\n",
       "      <td>5.377800</td>\n",
       "    </tr>\n",
       "    <tr>\n",
       "      <th>std</th>\n",
       "      <td>52.295779</td>\n",
       "      <td>2.378166</td>\n",
       "    </tr>\n",
       "    <tr>\n",
       "      <th>min</th>\n",
       "      <td>546443.000000</td>\n",
       "      <td>0.190000</td>\n",
       "    </tr>\n",
       "    <tr>\n",
       "      <th>25%</th>\n",
       "      <td>546467.750000</td>\n",
       "      <td>3.880000</td>\n",
       "    </tr>\n",
       "    <tr>\n",
       "      <th>50%</th>\n",
       "      <td>546492.500000</td>\n",
       "      <td>5.415000</td>\n",
       "    </tr>\n",
       "    <tr>\n",
       "      <th>75%</th>\n",
       "      <td>546567.250000</td>\n",
       "      <td>7.022500</td>\n",
       "    </tr>\n",
       "    <tr>\n",
       "      <th>max</th>\n",
       "      <td>546592.000000</td>\n",
       "      <td>10.710000</td>\n",
       "    </tr>\n",
       "  </tbody>\n",
       "</table>\n",
       "</div>\n",
       "    <div class=\"colab-df-buttons\">\n",
       "\n",
       "  <div class=\"colab-df-container\">\n",
       "    <button class=\"colab-df-convert\" onclick=\"convertToInteractive('df-7bce444d-a532-411b-841e-4dee4dc2f7b1')\"\n",
       "            title=\"Convert this dataframe to an interactive table.\"\n",
       "            style=\"display:none;\">\n",
       "\n",
       "  <svg xmlns=\"http://www.w3.org/2000/svg\" height=\"24px\" viewBox=\"0 -960 960 960\">\n",
       "    <path d=\"M120-120v-720h720v720H120Zm60-500h600v-160H180v160Zm220 220h160v-160H400v160Zm0 220h160v-160H400v160ZM180-400h160v-160H180v160Zm440 0h160v-160H620v160ZM180-180h160v-160H180v160Zm440 0h160v-160H620v160Z\"/>\n",
       "  </svg>\n",
       "    </button>\n",
       "\n",
       "  <style>\n",
       "    .colab-df-container {\n",
       "      display:flex;\n",
       "      gap: 12px;\n",
       "    }\n",
       "\n",
       "    .colab-df-convert {\n",
       "      background-color: #E8F0FE;\n",
       "      border: none;\n",
       "      border-radius: 50%;\n",
       "      cursor: pointer;\n",
       "      display: none;\n",
       "      fill: #1967D2;\n",
       "      height: 32px;\n",
       "      padding: 0 0 0 0;\n",
       "      width: 32px;\n",
       "    }\n",
       "\n",
       "    .colab-df-convert:hover {\n",
       "      background-color: #E2EBFA;\n",
       "      box-shadow: 0px 1px 2px rgba(60, 64, 67, 0.3), 0px 1px 3px 1px rgba(60, 64, 67, 0.15);\n",
       "      fill: #174EA6;\n",
       "    }\n",
       "\n",
       "    .colab-df-buttons div {\n",
       "      margin-bottom: 4px;\n",
       "    }\n",
       "\n",
       "    [theme=dark] .colab-df-convert {\n",
       "      background-color: #3B4455;\n",
       "      fill: #D2E3FC;\n",
       "    }\n",
       "\n",
       "    [theme=dark] .colab-df-convert:hover {\n",
       "      background-color: #434B5C;\n",
       "      box-shadow: 0px 1px 3px 1px rgba(0, 0, 0, 0.15);\n",
       "      filter: drop-shadow(0px 1px 2px rgba(0, 0, 0, 0.3));\n",
       "      fill: #FFFFFF;\n",
       "    }\n",
       "  </style>\n",
       "\n",
       "    <script>\n",
       "      const buttonEl =\n",
       "        document.querySelector('#df-7bce444d-a532-411b-841e-4dee4dc2f7b1 button.colab-df-convert');\n",
       "      buttonEl.style.display =\n",
       "        google.colab.kernel.accessAllowed ? 'block' : 'none';\n",
       "\n",
       "      async function convertToInteractive(key) {\n",
       "        const element = document.querySelector('#df-7bce444d-a532-411b-841e-4dee4dc2f7b1');\n",
       "        const dataTable =\n",
       "          await google.colab.kernel.invokeFunction('convertToInteractive',\n",
       "                                                    [key], {});\n",
       "        if (!dataTable) return;\n",
       "\n",
       "        const docLinkHtml = 'Like what you see? Visit the ' +\n",
       "          '<a target=\"_blank\" href=https://colab.research.google.com/notebooks/data_table.ipynb>data table notebook</a>'\n",
       "          + ' to learn more about interactive tables.';\n",
       "        element.innerHTML = '';\n",
       "        dataTable['output_type'] = 'display_data';\n",
       "        await google.colab.output.renderOutput(dataTable, element);\n",
       "        const docLink = document.createElement('div');\n",
       "        docLink.innerHTML = docLinkHtml;\n",
       "        element.appendChild(docLink);\n",
       "      }\n",
       "    </script>\n",
       "  </div>\n",
       "\n",
       "\n",
       "<div id=\"df-6f3f0f5e-aab5-441f-a31c-802a5ce0eae6\">\n",
       "  <button class=\"colab-df-quickchart\" onclick=\"quickchart('df-6f3f0f5e-aab5-441f-a31c-802a5ce0eae6')\"\n",
       "            title=\"Suggest charts\"\n",
       "            style=\"display:none;\">\n",
       "\n",
       "<svg xmlns=\"http://www.w3.org/2000/svg\" height=\"24px\"viewBox=\"0 0 24 24\"\n",
       "     width=\"24px\">\n",
       "    <g>\n",
       "        <path d=\"M19 3H5c-1.1 0-2 .9-2 2v14c0 1.1.9 2 2 2h14c1.1 0 2-.9 2-2V5c0-1.1-.9-2-2-2zM9 17H7v-7h2v7zm4 0h-2V7h2v10zm4 0h-2v-4h2v4z\"/>\n",
       "    </g>\n",
       "</svg>\n",
       "  </button>\n",
       "\n",
       "<style>\n",
       "  .colab-df-quickchart {\n",
       "      --bg-color: #E8F0FE;\n",
       "      --fill-color: #1967D2;\n",
       "      --hover-bg-color: #E2EBFA;\n",
       "      --hover-fill-color: #174EA6;\n",
       "      --disabled-fill-color: #AAA;\n",
       "      --disabled-bg-color: #DDD;\n",
       "  }\n",
       "\n",
       "  [theme=dark] .colab-df-quickchart {\n",
       "      --bg-color: #3B4455;\n",
       "      --fill-color: #D2E3FC;\n",
       "      --hover-bg-color: #434B5C;\n",
       "      --hover-fill-color: #FFFFFF;\n",
       "      --disabled-bg-color: #3B4455;\n",
       "      --disabled-fill-color: #666;\n",
       "  }\n",
       "\n",
       "  .colab-df-quickchart {\n",
       "    background-color: var(--bg-color);\n",
       "    border: none;\n",
       "    border-radius: 50%;\n",
       "    cursor: pointer;\n",
       "    display: none;\n",
       "    fill: var(--fill-color);\n",
       "    height: 32px;\n",
       "    padding: 0;\n",
       "    width: 32px;\n",
       "  }\n",
       "\n",
       "  .colab-df-quickchart:hover {\n",
       "    background-color: var(--hover-bg-color);\n",
       "    box-shadow: 0 1px 2px rgba(60, 64, 67, 0.3), 0 1px 3px 1px rgba(60, 64, 67, 0.15);\n",
       "    fill: var(--button-hover-fill-color);\n",
       "  }\n",
       "\n",
       "  .colab-df-quickchart-complete:disabled,\n",
       "  .colab-df-quickchart-complete:disabled:hover {\n",
       "    background-color: var(--disabled-bg-color);\n",
       "    fill: var(--disabled-fill-color);\n",
       "    box-shadow: none;\n",
       "  }\n",
       "\n",
       "  .colab-df-spinner {\n",
       "    border: 2px solid var(--fill-color);\n",
       "    border-color: transparent;\n",
       "    border-bottom-color: var(--fill-color);\n",
       "    animation:\n",
       "      spin 1s steps(1) infinite;\n",
       "  }\n",
       "\n",
       "  @keyframes spin {\n",
       "    0% {\n",
       "      border-color: transparent;\n",
       "      border-bottom-color: var(--fill-color);\n",
       "      border-left-color: var(--fill-color);\n",
       "    }\n",
       "    20% {\n",
       "      border-color: transparent;\n",
       "      border-left-color: var(--fill-color);\n",
       "      border-top-color: var(--fill-color);\n",
       "    }\n",
       "    30% {\n",
       "      border-color: transparent;\n",
       "      border-left-color: var(--fill-color);\n",
       "      border-top-color: var(--fill-color);\n",
       "      border-right-color: var(--fill-color);\n",
       "    }\n",
       "    40% {\n",
       "      border-color: transparent;\n",
       "      border-right-color: var(--fill-color);\n",
       "      border-top-color: var(--fill-color);\n",
       "    }\n",
       "    60% {\n",
       "      border-color: transparent;\n",
       "      border-right-color: var(--fill-color);\n",
       "    }\n",
       "    80% {\n",
       "      border-color: transparent;\n",
       "      border-right-color: var(--fill-color);\n",
       "      border-bottom-color: var(--fill-color);\n",
       "    }\n",
       "    90% {\n",
       "      border-color: transparent;\n",
       "      border-bottom-color: var(--fill-color);\n",
       "    }\n",
       "  }\n",
       "</style>\n",
       "\n",
       "  <script>\n",
       "    async function quickchart(key) {\n",
       "      const quickchartButtonEl =\n",
       "        document.querySelector('#' + key + ' button');\n",
       "      quickchartButtonEl.disabled = true;  // To prevent multiple clicks.\n",
       "      quickchartButtonEl.classList.add('colab-df-spinner');\n",
       "      try {\n",
       "        const charts = await google.colab.kernel.invokeFunction(\n",
       "            'suggestCharts', [key], {});\n",
       "      } catch (error) {\n",
       "        console.error('Error during call to suggestCharts:', error);\n",
       "      }\n",
       "      quickchartButtonEl.classList.remove('colab-df-spinner');\n",
       "      quickchartButtonEl.classList.add('colab-df-quickchart-complete');\n",
       "    }\n",
       "    (() => {\n",
       "      let quickchartButtonEl =\n",
       "        document.querySelector('#df-6f3f0f5e-aab5-441f-a31c-802a5ce0eae6 button');\n",
       "      quickchartButtonEl.style.display =\n",
       "        google.colab.kernel.accessAllowed ? 'block' : 'none';\n",
       "    })();\n",
       "  </script>\n",
       "</div>\n",
       "\n",
       "    </div>\n",
       "  </div>\n"
      ],
      "text/plain": [
       "             user_id  time_spent_on_the_page\n",
       "count     100.000000              100.000000\n",
       "mean   546517.000000                5.377800\n",
       "std        52.295779                2.378166\n",
       "min    546443.000000                0.190000\n",
       "25%    546467.750000                3.880000\n",
       "50%    546492.500000                5.415000\n",
       "75%    546567.250000                7.022500\n",
       "max    546592.000000               10.710000"
      ]
     },
     "execution_count": 11,
     "metadata": {},
     "output_type": "execute_result"
    }
   ],
   "source": [
    "# Getting the statistical summary for the variables\n",
    "df.describe()"
   ]
  },
  {
   "cell_type": "code",
   "execution_count": null,
   "id": "e1ad11d4",
   "metadata": {
    "colab": {
     "base_uri": "https://localhost:8080/"
    },
    "id": "e1ad11d4",
    "outputId": "ab7002ce-4057-4992-d02b-df525800a2da"
   },
   "outputs": [
    {
     "name": "stdout",
     "output_type": "stream",
     "text": [
      "user_id                   0\n",
      "group                     0\n",
      "landing_page              0\n",
      "time_spent_on_the_page    0\n",
      "converted                 0\n",
      "language_preferred        0\n",
      "dtype: int64\n",
      "----------------------------------------------------------------------------------------------------\n",
      "There are no missing values in the data.\n"
     ]
    }
   ],
   "source": [
    "# checking for missing values\n",
    "missing_values_count = df.isnull().sum()\n",
    "print(missing_values_count)\n",
    "print('--'*50)\n",
    "if missing_values_count.sum() == 0:\n",
    "  print(\"There are no missing values in the data.\")\n",
    "else:\n",
    "  print(\"There are missing values in the data.\")\n"
   ]
  },
  {
   "cell_type": "code",
   "execution_count": null,
   "id": "_tJmg43yQBHP",
   "metadata": {
    "colab": {
     "base_uri": "https://localhost:8080/"
    },
    "id": "_tJmg43yQBHP",
    "outputId": "9bd00c9d-a3d2-4c60-d8c7-a86e9b6d38da"
   },
   "outputs": [
    {
     "name": "stdout",
     "output_type": "stream",
     "text": [
      "There are no duplicates in the data.\n"
     ]
    }
   ],
   "source": [
    "# Check for duplicates\n",
    "duplicates = df.duplicated()\n",
    "if duplicates.sum() == 0:\n",
    "  print(\"There are no duplicates in the data.\")\n",
    "else:\n",
    "  print(\"There are duplicates in the data.\")"
   ]
  },
  {
   "cell_type": "markdown",
   "id": "68f3b2c9",
   "metadata": {
    "id": "68f3b2c9"
   },
   "source": [
    "### Univariate Analysis"
   ]
  },
  {
   "cell_type": "code",
   "execution_count": 10,
   "id": "TU_S6RnIX6iz",
   "metadata": {
    "id": "TU_S6RnIX6iz"
   },
   "outputs": [],
   "source": [
    "# creating subsets of the data for analysis based on the group column\n",
    "controls = df[df['group'] == 'control'].drop('group', axis=1).reset_index(drop=True)\n",
    "treatments = df[df['group'] == 'treatment'].drop('group', axis=1).reset_index(drop=True)"
   ]
  },
  {
   "cell_type": "code",
   "execution_count": null,
   "id": "owvGlWgLcn88",
   "metadata": {
    "colab": {
     "base_uri": "https://localhost:8080/"
    },
    "id": "owvGlWgLcn88",
    "outputId": "2e062997-d4fd-4478-dc87-8413a172763b"
   },
   "outputs": [
    {
     "name": "stdout",
     "output_type": "stream",
     "text": [
      "   user_id landing_page  time_spent_on_the_page converted language_preferred\n",
      "0   546468          new                    7.13       yes            English\n",
      "1   546462          new                    4.40        no            Spanish\n",
      "2   546459          new                    4.75       yes            Spanish\n",
      "3   546448          new                    5.25       yes             French\n",
      "4   546461          new                   10.71       yes             French\n",
      "----------------------------------------------------------------------------------------------------\n",
      "(50, 5)\n"
     ]
    }
   ],
   "source": [
    "# Confirming the columns and rows of the Treatments dataframe\n",
    "print(treatments.head())\n",
    "print('--'*50)\n",
    "print(treatments.shape)"
   ]
  },
  {
   "cell_type": "code",
   "execution_count": null,
   "id": "udILeGq7aciI",
   "metadata": {
    "colab": {
     "base_uri": "https://localhost:8080/"
    },
    "id": "udILeGq7aciI",
    "outputId": "9f26247c-cec5-40ee-df5b-4cf154340919"
   },
   "outputs": [
    {
     "name": "stdout",
     "output_type": "stream",
     "text": [
      "   user_id landing_page  time_spent_on_the_page converted language_preferred\n",
      "0   546592          old                    3.48        no            Spanish\n",
      "1   546567          old                    3.02        no             French\n",
      "2   546558          old                    5.28       yes            English\n",
      "3   546581          old                    6.53       yes            Spanish\n",
      "4   546548          old                    2.08        no            English\n",
      "----------------------------------------------------------------------------------------------------\n",
      "(50, 5)\n"
     ]
    }
   ],
   "source": [
    "# Confirming the columns and rows of the Controls dataframe\n",
    "print(controls.head())\n",
    "print('--'*50)\n",
    "print(controls.shape)"
   ]
  },
  {
   "cell_type": "markdown",
   "id": "ip6-y_5SdVqU",
   "metadata": {
    "id": "ip6-y_5SdVqU"
   },
   "source": [
    "Both the controls and treatment have equal number of rows and columns at 50 and 5 respectively"
   ]
  },
  {
   "cell_type": "markdown",
   "id": "rdUeD_uMjhOC",
   "metadata": {
    "id": "rdUeD_uMjhOC"
   },
   "source": [
    "**Plots of time spent on page**\n"
   ]
  },
  {
   "cell_type": "code",
   "execution_count": null,
   "id": "cyzkl-Ry0jlN",
   "metadata": {
    "colab": {
     "base_uri": "https://localhost:8080/",
     "height": 883
    },
    "id": "cyzkl-Ry0jlN",
    "outputId": "76f9604e-2611-44b4-d4e9-643f393f2ada"
   },
   "outputs": [
    {
     "data": {
      "image/png": "[encoded data removed]",
      "text/plain": [
       "<Figure size 640x480 with 1 Axes>"
      ]
     },
     "metadata": {},
     "output_type": "display_data"
    },
    {
     "data": {
      "image/png": "[encoded data removed]",
      "text/plain": [
       "<Figure size 640x480 with 1 Axes>"
      ]
     },
     "metadata": {},
     "output_type": "display_data"
    }
   ],
   "source": [
    "sns.histplot(data = controls,x = 'time_spent_on_the_page' , kde=True)\n",
    "plt.show();\n",
    "sns.boxplot(data = controls,x = 'time_spent_on_the_page')\n",
    "plt.show();\n"
   ]
  },
  {
   "cell_type": "markdown",
   "id": "sDLRktQ-6jVh",
   "metadata": {
    "id": "sDLRktQ-6jVh"
   },
   "source": [
    "*   50% of the time spent on the old page lies between 2.5 and 6.5 minutes.\n",
    "*   time spent on the old page seem symmetrical indicating a normal distribution\n",
    "*   time spent on the old page does not have any significant outliers.\n",
    "*   The average time spent on the Control page is: 4.53"
   ]
  },
  {
   "cell_type": "code",
   "execution_count": null,
   "id": "j9GSBkqP3dzB",
   "metadata": {
    "colab": {
     "base_uri": "https://localhost:8080/",
     "height": 883
    },
    "id": "j9GSBkqP3dzB",
    "outputId": "adce184f-b8d6-4f21-d018-b81af5028cca"
   },
   "outputs": [
    {
     "data": {
      "image/png": "[encoded data removed]",
      "text/plain": [
       "<Figure size 640x480 with 1 Axes>"
      ]
     },
     "metadata": {},
     "output_type": "display_data"
    },
    {
     "data": {
      "image/png": "[encoded data removed]",
      "text/plain": [
       "<Figure size 640x480 with 1 Axes>"
      ]
     },
     "metadata": {},
     "output_type": "display_data"
    }
   ],
   "source": [
    "sns.histplot(data = treatments,x = 'time_spent_on_the_page' , kde=True)\n",
    "plt.show();\n",
    "sns.boxplot(data = treatments,x = 'time_spent_on_the_page')\n",
    "plt.show();"
   ]
  },
  {
   "cell_type": "markdown",
   "id": "0A5XBbMC5Z2U",
   "metadata": {
    "id": "0A5XBbMC5Z2U"
   },
   "source": [
    "*   50% of the time spent on the new page lies between 5 and 7.\n",
    "*   time spent on the new page seem symmetrical indicating a normal distribution\n",
    "*   time spent on the new page have some outliers showing some folks spent more than the average amount of time.\n",
    "*   The average time spent on the Treatment page is: 6.22"
   ]
  },
  {
   "cell_type": "markdown",
   "id": "CRyuWVumkPnx",
   "metadata": {
    "id": "CRyuWVumkPnx"
   },
   "source": [
    "**Plot of Converted**"
   ]
  },
  {
   "cell_type": "code",
   "execution_count": null,
   "id": "TcemohoAkI7o",
   "metadata": {
    "colab": {
     "base_uri": "https://localhost:8080/",
     "height": 904
    },
    "id": "TcemohoAkI7o",
    "outputId": "2572ea70-241c-4a6a-9379-64987699cedd"
   },
   "outputs": [
    {
     "data": {
      "image/png": "[encoded data removed]",
      "text/plain": [
       "<Figure size 640x480 with 1 Axes>"
      ]
     },
     "metadata": {},
     "output_type": "display_data"
    },
    {
     "name": "stdout",
     "output_type": "stream",
     "text": [
      "----------------------------------------------------------------------------------------------------\n"
     ]
    },
    {
     "data": {
      "image/png": "[encoded data removed]",
      "text/plain": [
       "<Figure size 640x480 with 1 Axes>"
      ]
     },
     "metadata": {},
     "output_type": "display_data"
    }
   ],
   "source": [
    "# store the control plot in a variable.\n",
    "ctcv = controls.groupby('converted').size().plot(kind='barh', color=sns.palettes.mpl_palette('Dark2'))\n",
    "\n",
    "# Adds labels with integer formatting slightly away from the bars.\n",
    "for container in ctcv.containers:\n",
    "    ctcv.bar_label(container, fmt='%d', label_type='edge', padding=5)\n",
    "\n",
    "plt.title('Count of converted in control group')\n",
    "plt.gca().spines[['top', 'right']].set_visible(False)\n",
    "plt.show();\n",
    "\n",
    "print('--'*50)\n",
    "\n",
    "# stores the treatment plot in a variable.\n",
    "ttcv = treatments.groupby('converted').size().plot(kind='barh', color=sns.palettes.mpl_palette('Dark2'))\n",
    "\n",
    "# Adds labels with integer formatting in the center of the bars.\n",
    "for container in ttcv.containers:\n",
    "    ttcv.bar_label(container, fmt='%d', label_type='center', padding=0)\n",
    "plt.title('count of converted in treatment group')\n",
    "plt.gca().spines[['top', 'right',]].set_visible(False)\n",
    "#print(treatments.groupby('converted').size())\n",
    "plt.show();\n"
   ]
  },
  {
   "cell_type": "markdown",
   "id": "Myl5GMO8i_Jq",
   "metadata": {
    "id": "Myl5GMO8i_Jq"
   },
   "source": [
    "The Control Group has 29 people converting and 21 non-converts.\n",
    "\n",
    "The Treatment Group has 33 people converting and 17 non-converts."
   ]
  },
  {
   "cell_type": "markdown",
   "id": "fad2de2f",
   "metadata": {
    "id": "fad2de2f"
   },
   "source": [
    "### Bivariate Analysis"
   ]
  },
  {
   "cell_type": "code",
   "execution_count": 12,
   "id": "vQ6MGR68ueQC",
   "metadata": {
    "colab": {
     "base_uri": "https://localhost:8080/",
     "height": 388
    },
    "id": "vQ6MGR68ueQC",
    "outputId": "f14deb37-1abe-4582-fdf6-f4ac44dc441d"
   },
   "outputs": [
    {
     "data": {
      "image/png": "[encoded data removed]",
      "text/plain": [
       "<Figure size 600x400 with 1 Axes>"
      ]
     },
     "metadata": {},
     "output_type": "display_data"
    }
   ],
   "source": [
    "# Relationship between Time Spent on Page and Lanuage Preferred\n",
    "plt.figure(figsize=(6, 4))\n",
    "sns.barplot(y = 'time_spent_on_the_page', x = 'language_preferred', data = df)\n",
    "plt.show()"
   ]
  },
  {
   "cell_type": "code",
   "execution_count": 34,
   "id": "K4ijVZ2axbMh",
   "metadata": {
    "colab": {
     "base_uri": "https://localhost:8080/",
     "height": 781
    },
    "id": "K4ijVZ2axbMh",
    "outputId": "b4d9cf9d-f9ee-4dbf-e1f7-4f3aa52dfb41"
   },
   "outputs": [
    {
     "data": {
      "image/png": "[encoded data removed]",
      "text/plain": [
       "<Figure size 600x400 with 1 Axes>"
      ]
     },
     "metadata": {},
     "output_type": "display_data"
    },
    {
     "data": {
      "image/png": "[encoded data removed]",
      "text/plain": [
       "<Figure size 600x400 with 1 Axes>"
      ]
     },
     "metadata": {},
     "output_type": "display_data"
    }
   ],
   "source": [
    "from itertools import count\n",
    "# Relationship between Time Spent on Page and Converted\n",
    "plt.figure(figsize=(6, 4))\n",
    "sns.barplot(y = 'time_spent_on_the_page', x = 'converted', data = df)\n",
    "plt.show();\n",
    "\n",
    "# Relationship between users, landing page and Converted\n",
    "count_df = df.groupby(['landing_page', 'converted']).size().reset_index(name='count')\n",
    "\n",
    "plt.figure(figsize=(6, 4))\n",
    "\n",
    "plt.title('Relationship between Users, Landing Page, and Converted')\n",
    "plt.xlabel('Landing Page')\n",
    "plt.ylabel('Number of Users')\n",
    "\n",
    "# stores the plot in a variable.\n",
    "ax = sns.barplot(y='count', x='landing_page', hue='converted', data=count_df)\n",
    "\n",
    "# Add labels on the bars\n",
    "for container in ax.containers:\n",
    "    ax.bar_label(container, fmt='%d', label_type='center', fontsize=10, padding=3)\n",
    "\n",
    "plt.show();"
   ]
  },
  {
   "cell_type": "code",
   "execution_count": 35,
   "id": "J8D3avJoyDWR",
   "metadata": {
    "colab": {
     "base_uri": "https://localhost:8080/",
     "height": 390
    },
    "id": "J8D3avJoyDWR",
    "outputId": "445ad5c1-bbb9-48f0-9de9-a35ef56d2a11"
   },
   "outputs": [
    {
     "data": {
      "image/png": "[encoded data removed]",
      "text/plain": [
       "<Figure size 600x400 with 1 Axes>"
      ]
     },
     "metadata": {},
     "output_type": "display_data"
    }
   ],
   "source": [
    "# Relationship between Time Spent on Page and Landing Page\n",
    "plt.figure(figsize=(6, 4))\n",
    "sns.barplot(y = 'time_spent_on_the_page', x = 'landing_page', data = df)\n",
    "plt.show()\n",
    "#time_spent_on_the_page"
   ]
  },
  {
   "cell_type": "markdown",
   "id": "27906576",
   "metadata": {
    "id": "27906576"
   },
   "source": [
    "## 1. Do the users spend more time on the new landing page than the existing landing page?"
   ]
  },
  {
   "cell_type": "markdown",
   "id": "3e8fa6b9-8ad8-4945-ac66-d1107e7fccc8",
   "metadata": {},
   "source": [
    "Create a pivot table of the data"
   ]
  },
  {
   "cell_type": "code",
   "execution_count": 15,
   "id": "A9yQ1eVgADeN",
   "metadata": {
    "colab": {
     "base_uri": "https://localhost:8080/"
    },
    "id": "A9yQ1eVgADeN",
    "outputId": "a7a72cc4-566e-4564-c65a-7fe413b5e631"
   },
   "outputs": [
    {
     "name": "stdout",
     "output_type": "stream",
     "text": [
      "6.2232\n",
      "4.532400000000001\n",
      "The standard deviation of time spent on the Control page is: 1.82\n",
      "The standard deviation of time spent on the Treatment page is: 2.58\n"
     ]
    }
   ],
   "source": [
    "# Pivot the table\n",
    "p_df = df.pivot(index=[\"user_id\", \"group\", \"language_preferred\"], columns=\"landing_page\", values=[\"time_spent_on_the_page\", \"converted\"])\n",
    "\n",
    "# Flatten MultiIndex columns\n",
    "p_df.columns = [f\"{col[0]}_{col[1]}\" for col in p_df.columns]\n",
    "p_df = p_df.reset_index()\n",
    "\n",
    "# Display the transformed DataFrame\n",
    "p_df.head()\n",
    "print(p_df['time_spent_on_the_page_new'].mean())\n",
    "print(p_df['time_spent_on_the_page_old'].mean())\n",
    "print('The standard deviation of time spent on the Control page is: ' + str(round(p_df['time_spent_on_the_page_new'].std(),2)))\n",
    "print('The standard deviation of time spent on the Treatment page is: ' + str(round(p_df['time_spent_on_the_page_old'].std(),2)))\n"
   ]
  },
  {
   "cell_type": "markdown",
   "id": "sxKXNoC8Tdn2",
   "metadata": {
    "id": "sxKXNoC8Tdn2"
   },
   "source": [
    "It appears that Users spend more time on the new landing page, but we need statistical evidence to prove this."
   ]
  },
  {
   "cell_type": "markdown",
   "id": "e5fdf0c8",
   "metadata": {
    "id": "e5fdf0c8"
   },
   "source": [
    "### Perform Visual Analysis"
   ]
  },
  {
   "cell_type": "code",
   "execution_count": null,
   "id": "xAzFYrVDyiTh",
   "metadata": {
    "colab": {
     "base_uri": "https://localhost:8080/",
     "height": 450
    },
    "id": "xAzFYrVDyiTh",
    "outputId": "f51df504-ee39-45e9-d02b-c98e82eacd7a"
   },
   "outputs": [
    {
     "data": {
      "image/png": "[encoded data removed]",
      "text/plain": [
       "<Figure size 640x480 with 1 Axes>"
      ]
     },
     "metadata": {},
     "output_type": "display_data"
    }
   ],
   "source": [
    "sns.histplot(data = df,x = 'time_spent_on_the_page' , kde=True)\n",
    "plt.show();"
   ]
  },
  {
   "cell_type": "markdown",
   "id": "6kuMjjcljztN",
   "metadata": {
    "id": "6kuMjjcljztN"
   },
   "source": [
    "From the plot above, we can tell that the distribution is approximately normal.\n",
    "\n",
    "We will further confirm this using the Shapiro Wilk's test"
   ]
  },
  {
   "cell_type": "markdown",
   "id": "56b3dafd",
   "metadata": {
    "id": "56b3dafd"
   },
   "source": [
    "### Step 1: Define the null and alternate hypotheses"
   ]
  },
  {
   "cell_type": "markdown",
   "id": "d2ac77ef",
   "metadata": {
    "id": "d2ac77ef"
   },
   "source": [
    "### Let's write the null and alternative hypothesis\n",
    "Let $\\mu$ be the mean time spent on the landing page.\n",
    "\n",
    "Thus, the null hypothesis is;\n",
    "\n",
    ">$H_0:\\mu_{old} = \\mu_{new}$   (average time spent on the old and new landing page are equal)\n",
    "\n",
    "against the alternate hypothesis\n",
    "\n",
    ">$H_0:\\mu_{new} > \\mu_{old}$   (the average time spent on the new is greater than the average time spent on the old landing page)"
   ]
  },
  {
   "cell_type": "markdown",
   "id": "c7ee4907",
   "metadata": {
    "id": "c7ee4907"
   },
   "source": [
    "### Step 2: Select Appropriate test"
   ]
  },
  {
   "cell_type": "markdown",
   "id": "2c183cd7",
   "metadata": {
    "id": "2c183cd7"
   },
   "source": [
    "This is a one-tailed test, so We use the Two Independent Sample T-test for Equality of Means - Unequal Std Dev also because we are comparing and testing for two means with equal standard deviation.\n",
    "\n",
    "Confirming that all assumptions for the use of the above test is met, we first perform the\n",
    "**Shapiro Wilk's test for normality of the time spent distribution.**\n",
    "\n",
    "We will test the null hypothesis\n",
    "\n",
    ">$H_0:$ time spent on landing page follows a normal distribution\n",
    "\n",
    "against the alternative hypothesis\n",
    "\n",
    ">$H_a:$ time spent on landing page does not follow a normal distribution"
   ]
  },
  {
   "cell_type": "code",
   "execution_count": 10,
   "id": "NffzVoHhjOyO",
   "metadata": {
    "colab": {
     "base_uri": "https://localhost:8080/"
    },
    "id": "NffzVoHhjOyO",
    "outputId": "e6778f2b-8ef0-437b-a477-d5b1b24d72fc"
   },
   "outputs": [
    {
     "name": "stdout",
     "output_type": "stream",
     "text": [
      "The p-value is 0.5642956935237358\n",
      "Fail to reject the null hypothesis of normal distribution.\n"
     ]
    }
   ],
   "source": [
    "# Assumption 1: Normality using Shapiro Wilk's test\n",
    "# import the required function\n",
    "from scipy import stats\n",
    "\n",
    "# find the p-value\n",
    "w, p_value = stats.shapiro(df['time_spent_on_the_page'])\n",
    "print('The p-value is', p_value)\n",
    "\n",
    "# Interpretation\n",
    "alpha = 0.05\n",
    "if p_value < alpha:\n",
    "    print('Reject the null hypothesis of normal distribution.')\n",
    "else:\n",
    "    print('Fail to reject the null hypothesis of normal distribution.')"
   ]
  },
  {
   "cell_type": "markdown",
   "id": "jYWNNGoFoEQ7",
   "metadata": {
    "id": "jYWNNGoFoEQ7"
   },
   "source": [
    "Since p-value of the test is significantly larger than 0.05 significant level, we fail to reject the null hypothesis that the time spent follows the normal distribution."
   ]
  },
  {
   "cell_type": "markdown",
   "id": "tB7H8BlQoL3i",
   "metadata": {
    "id": "tB7H8BlQoL3i"
   },
   "source": [
    "Confirming the assumptions of the Paired test are met\n",
    "\n",
    "\n",
    "*   From Shapiro\"s test, we confirmed a normal distribution\n",
    "*   Continuous data - Yes, the usage time is measured on a continuous scale.\n",
    "*   Independent populations - As we are taking random samples for two different groups, the two samples are from two independent populations.\n",
    "*   Unequal population standard deviations - As the sample standard deviations are different, the population standard deviations may be assumed to be different.\n",
    "*   Random sampling from the population - Yes, we are informed that the collected random sample.\n",
    "\n",
    "**Confirmed! We can use two sample T-test for this problem**.\n",
    "\n"
   ]
  },
  {
   "cell_type": "markdown",
   "id": "3f58c9a7",
   "metadata": {
    "id": "3f58c9a7"
   },
   "source": [
    "### Step 3: Decide the significance level\n",
    "\n",
    "**Significance level is set at 0.05**"
   ]
  },
  {
   "cell_type": "markdown",
   "id": "5fed2eac",
   "metadata": {
    "id": "5fed2eac"
   },
   "source": [
    "### Step 4: Collect and prepare data"
   ]
  },
  {
   "cell_type": "code",
   "execution_count": 6,
   "id": "f5a59495",
   "metadata": {
    "colab": {
     "base_uri": "https://localhost:8080/"
    },
    "id": "f5a59495",
    "outputId": "172cd9ac-9e3e-4b60-836d-f2d97ff6a795"
   },
   "outputs": [
    {
     "name": "stdout",
     "output_type": "stream",
     "text": [
      "4.532400000000001\n",
      "6.2232\n",
      "The standard deviation of time spent on the Control page is: 2.58\n",
      "The standard deviation of time spent on the Treatment page is: 1.82\n"
     ]
    }
   ],
   "source": [
    "# Extract time spent on old and new landing pages\n",
    "old_time = df[df['landing_page'] == 'old']['time_spent_on_the_page']\n",
    "new_time = df[df['landing_page'] == 'new']['time_spent_on_the_page']\n",
    "\n",
    "# check and confirm the mean and variance\n",
    "print(old_time.mean())\n",
    "print(new_time.mean())\n",
    "print('The standard deviation of time spent on the Control page is: ' + str(round(old_time.std(),2)))\n",
    "print('The standard deviation of time spent on the Treatment page is: ' + str(round(new_time.std(),2)))\n",
    "\n"
   ]
  },
  {
   "cell_type": "markdown",
   "id": "f5c5258d",
   "metadata": {
    "id": "f5c5258d"
   },
   "source": [
    "### Step 5: Calculate the p-value"
   ]
  },
  {
   "cell_type": "code",
   "execution_count": null,
   "id": "fac8594a",
   "metadata": {
    "colab": {
     "base_uri": "https://localhost:8080/"
    },
    "id": "fac8594a",
    "outputId": "907aa768-713a-4548-d533-711f2c3b3d89"
   },
   "outputs": [
    {
     "name": "stdout",
     "output_type": "stream",
     "text": [
      "The p-value is  0.0001392381225166549\n"
     ]
    }
   ],
   "source": [
    "#import the required functions\n",
    "from scipy.stats import ttest_ind\n",
    "\n",
    "# find the p-value\n",
    "'''\n",
    "Since we are testing if the new_time is greater than the old_time in the alternative hypothesis, we state the new time first otherwise we state the old_time first.\n",
    "Also because it is a one-tailed test, we state the alternative hypothesis as greater.\n",
    "'''\n",
    "test_stat, p_value = ttest_ind(new_time, old_time, equal_var = False, alternative = 'greater')\n",
    "print('The p-value is ', p_value)\n"
   ]
  },
  {
   "cell_type": "markdown",
   "id": "359b12f8",
   "metadata": {
    "id": "359b12f8"
   },
   "source": [
    "### Step 6: Compare the p-value with $\\alpha$"
   ]
  },
  {
   "cell_type": "code",
   "execution_count": null,
   "id": "7be47289",
   "metadata": {
    "colab": {
     "base_uri": "https://localhost:8080/"
    },
    "id": "7be47289",
    "outputId": "c5408fe4-74c2-4d71-e232-8e5ab839f1b3"
   },
   "outputs": [
    {
     "name": "stdout",
     "output_type": "stream",
     "text": [
      "Reject the null hypothesis: Users spend significantly more/less time on the new page.\n"
     ]
    }
   ],
   "source": [
    "# compare p_value with significance level and interprete result\n",
    "if p_value < 0.05:\n",
    "    print('Reject the null hypothesis: Users spend significantly more/less time on the new page.')\n",
    "else:\n",
    "    print('Fail to reject the null hypothesis: No significant difference in time spent.')"
   ]
  },
  {
   "cell_type": "markdown",
   "id": "d9affc84",
   "metadata": {
    "id": "d9affc84"
   },
   "source": [
    "### Step 7:  Draw inference"
   ]
  },
  {
   "cell_type": "markdown",
   "id": "6b16dd4b",
   "metadata": {
    "id": "6b16dd4b"
   },
   "source": [
    "**Insight**\n",
    "\n",
    "As the p-value (0.0001) is less than the level of significance, we reject the null hypothesis. Hence, we have enough evidence to support the claim that suggests users spend more time on the new landing page than the old landing page."
   ]
  },
  {
   "cell_type": "markdown",
   "id": "1ad0823a",
   "metadata": {
    "id": "1ad0823a"
   },
   "source": [
    "**A similar approach can be followed to answer the other questions.**"
   ]
  },
  {
   "cell_type": "markdown",
   "id": "353e9d24",
   "metadata": {
    "id": "353e9d24"
   },
   "source": [
    "## 2. Is the conversion rate (the proportion of users who visit the landing page and get converted) for the new page greater than the conversion rate for the old page?"
   ]
  },
  {
   "cell_type": "markdown",
   "id": "IDrVLJkLTp4-",
   "metadata": {
    "id": "IDrVLJkLTp4-"
   },
   "source": [
    "### Let's write the null and alternative hypothesis\n",
    "Let $p_1,p_2$ be the proportions of conversion for old and new landing page respectively.\n",
    "\n",
    "We test the null hypothesis\n",
    "\n",
    ">$H_0:p_1 =p_2$\n",
    "\n",
    "against the alternate hypothesis\n",
    "\n",
    ">$H_a:p_2 > p_1$"
   ]
  },
  {
   "cell_type": "code",
   "execution_count": 46,
   "id": "b7f52898",
   "metadata": {
    "colab": {
     "base_uri": "https://localhost:8080/"
    },
    "id": "b7f52898",
    "outputId": "74e5e42b-38df-4e8f-9441-37a619a8ef0d"
   },
   "outputs": [
    {
     "name": "stdout",
     "output_type": "stream",
     "text": [
      "number of converts for old landing page is: 21\n",
      "number of converts for new landing page is: 33\n",
      "number of users for old landing page is: 50\n",
      "number of users for new landing page is: 50\n",
      "Conversion Rate (Old Page): 0.4200\n",
      "Conversion Rate (New Page): 0.6600\n"
     ]
    }
   ],
   "source": [
    "# use proportion test\n",
    "# no of converted for old and new\n",
    "old_convert = len(df[(df['landing_page'] == 'old') & (df['converted'] == 'yes')]['user_id'])\n",
    "new_convert = len(df[(df['landing_page'] == 'new') & (df['converted'] == 'yes')]['user_id'])\n",
    "print(f'number of converts for old landing page is:',old_convert)\n",
    "print(f'number of converts for new landing page is:',new_convert)\n",
    "\n",
    "# Extract number of converted and non-converted users on the old and new landing pages\n",
    "total_old_users = len(df[df['landing_page'] == 'old']['converted'])\n",
    "total_new_users = len(df[df['landing_page'] == 'new']['converted'])\n",
    "print(f'number of users for old landing page is:',total_old_users)\n",
    "print(f'number of users for new landing page is:',total_new_users)\n",
    "\n",
    "# Compute conversion rates\n",
    "conversion_rate_old = old_convert / total_old_users\n",
    "conversion_rate_new = new_convert / total_new_users\n",
    "print(f\"Conversion Rate (Old Page): {conversion_rate_old:.4f}\")\n",
    "print(f\"Conversion Rate (New Page): {conversion_rate_new:.4f}\")\n"
   ]
  },
  {
   "cell_type": "markdown",
   "id": "873nDCQSc-rw",
   "metadata": {
    "id": "873nDCQSc-rw"
   },
   "source": [
    "We see that the conversion rate for the new page is higher than the old page.\n",
    "\n",
    "However, we need to prove with statistical evidence using the Z-test for proportions.\n",
    "\n",
    "Also this is a one-tailed test."
   ]
  },
  {
   "cell_type": "markdown",
   "id": "1ajaXHU0U3Gh",
   "metadata": {
    "id": "1ajaXHU0U3Gh"
   },
   "source": [
    "### Let's test whether the Z-test assumptions are satisfied or not\n",
    "\n",
    "*   Binomally distributed population - Yes, a user is either converted or not converted.\n",
    "*   Random sampling from the population - Yes, we are informed that the collected sample is a simple random sample.  \n",
    "*   Can the binomial distribution approximated to normal distribution - Yes, the distribution is approximately normal with the number new converts being greater than 30 for CLT limit and old converts being over 20 thus, approximately meeting the CLT limit. Also, np and n(1-p) are greater than or equal to 10 for both old and new converts.\n",
    "\n",
    "Therefore, we can use the Z-test."
   ]
  },
  {
   "cell_type": "code",
   "execution_count": 51,
   "id": "jmdIwqvHTiPy",
   "metadata": {
    "colab": {
     "base_uri": "https://localhost:8080/"
    },
    "id": "jmdIwqvHTiPy",
    "outputId": "607bd04f-85c8-4f6c-b9bb-e1a80efc6bc0"
   },
   "outputs": [
    {
     "name": "stdout",
     "output_type": "stream",
     "text": [
      "The p-value is 0.008026308204056278\n",
      "Z-Statistic: 2.4077\n",
      "P-Value: 0.0080\n",
      "Reject the null hypothesis: The new page has a significantly higher conversion rate.\n"
     ]
    }
   ],
   "source": [
    "# import the required fuction\n",
    "from statsmodels.stats.proportion import proportions_ztest\n",
    "\n",
    "# set the counts of defective items - start with new before old since alternate hypothesis states that new > old\n",
    "converted_count = np.array([33, 21])\n",
    "\n",
    "# set the sample sizes\n",
    "# recall number of old and new users are 50 each\n",
    "nobs = np.array([50, 50])\n",
    "\n",
    "# find the p-value\n",
    "test_stat, p_value = proportions_ztest(converted_count, nobs, alternative = 'larger')\n",
    "print('The p-value is ' + str(p_value))\n",
    "print(f\"Z-Statistic: {test_stat:.4f}\")\n",
    "print(f\"P-Value: {p_value:.4f}\")\n",
    "\n",
    "# Interpretation\n",
    "alpha = 0.05\n",
    "if p_value < alpha:\n",
    "    print(\"Reject the null hypothesis: The new page has a significantly higher conversion rate.\")\n",
    "else:\n",
    "    print(\"Fail to reject the null hypothesis: No significant difference in conversion rates.\")\n"
   ]
  },
  {
   "cell_type": "markdown",
   "id": "teR6oCigaRfb",
   "metadata": {
    "id": "teR6oCigaRfb"
   },
   "source": [
    "### Insight\n",
    "\n",
    "As the p-value is less than the significance level of 0.05, we can reject the null hypothesis because we have enough statistical significance to conclude that the new page has a significantly higher conversion rate."
   ]
  },
  {
   "cell_type": "markdown",
   "id": "d49bfa2d",
   "metadata": {
    "id": "d49bfa2d"
   },
   "source": [
    "## 3. Is the conversion and preferred language are independent or related?"
   ]
  },
  {
   "cell_type": "markdown",
   "id": "uc1Y68akA3Q-",
   "metadata": {
    "id": "uc1Y68akA3Q-"
   },
   "source": [
    "For this, we use chi-square test for independence\n",
    "\n",
    "Let's write the null and alternative hypothesis\n",
    "\n",
    "\n",
    "We will test the null hypothesis\n",
    "\n",
    ">$H_0:$ Preferred language is independent of converted.\n",
    "\n",
    "against the alternate hypothesis\n",
    "\n",
    ">$H_a:$ Preferred language depends on converted."
   ]
  },
  {
   "cell_type": "markdown",
   "id": "nSRLcaNUB_-d",
   "metadata": {
    "id": "nSRLcaNUB_-d"
   },
   "source": [
    "**Let's test whether the assumptions for Chi-square test are satisfied or not**\n",
    "\n",
    "*   Are they Categorical variables? Yes, they are.\n",
    "*   Are the Expected value of the number of sample observations in each level of the variable at least 5? Yes, the number of observations in each level is greater than 5.\n",
    "*   Random sampling from the population? Yes, we are informed that the collected sample is a simple random sample.\n",
    "\n",
    "Therefore, we can use the test!"
   ]
  },
  {
   "cell_type": "code",
   "execution_count": 11,
   "id": "b0e63f17",
   "metadata": {
    "colab": {
     "base_uri": "https://localhost:8080/"
    },
    "id": "b0e63f17",
    "outputId": "5b340cf3-30da-4135-8cf2-a4577a6a699a"
   },
   "outputs": [
    {
     "name": "stdout",
     "output_type": "stream",
     "text": [
      "language_preferred  English  French  Spanish\n",
      "converted                                   \n",
      "no                       11      19       16\n",
      "yes                      21      15       18\n",
      "The p-value is 0.21298887487543447\n",
      "Fail to reject the null hypothesis: Preferred language is independent of conversion.\n"
     ]
    }
   ],
   "source": [
    "# use chi2_contingency() function for independence test\n",
    "# import the required function\n",
    "from scipy.stats import chi2_contingency\n",
    "\n",
    "# Create a contingency table using pd.crosstab()\n",
    "contingency_table = pd.crosstab(df['converted'],df['language_preferred'] )\n",
    "print(contingency_table.head())\n",
    "\n",
    "# find the p-value\n",
    "chi2, p_value, dof, expected = chi2_contingency(contingency_table)\n",
    "print('The p-value is', p_value)\n",
    "\n",
    "# Interpretation\n",
    "alpha = 0.05\n",
    "if p_value < alpha:\n",
    "    print('Reject the null hypothesis: Preferred language is dependent of conversion.')\n",
    "else:\n",
    "    print('Fail to reject the null hypothesis: Preferred language is independent of conversion.')"
   ]
  },
  {
   "cell_type": "markdown",
   "id": "tLR15DawFbWM",
   "metadata": {
    "id": "tLR15DawFbWM"
   },
   "source": [
    "### Insight\n",
    "As the p-value is greater than the significance level, we fail to reject the null hypothesis. Hence, we do not have enough statistical significance to conclude that the Preferred language is not independent of conversion at 5% significance level."
   ]
  },
  {
   "cell_type": "markdown",
   "id": "8d585a90",
   "metadata": {
    "id": "8d585a90"
   },
   "source": [
    "## 4. Is the time spent on the new page same for the different language users?"
   ]
  },
  {
   "cell_type": "markdown",
   "id": "T8SeQ2zVAiVL",
   "metadata": {
    "id": "T8SeQ2zVAiVL"
   },
   "source": [
    "Since we are concerened about only users who visited the new landing page, we use the treatments data frame created earlier for this problem as it is already filtered."
   ]
  },
  {
   "cell_type": "code",
   "execution_count": 16,
   "id": "b422f395",
   "metadata": {
    "colab": {
     "base_uri": "https://localhost:8080/",
     "height": 210
    },
    "id": "b422f395",
    "outputId": "39ff2e68-6009-4ed3-9a34-2de75980dd7d"
   },
   "outputs": [
    {
     "data": {
      "text/html": [
       "<div>\n",
       "<style scoped>\n",
       "    .dataframe tbody tr th:only-of-type {\n",
       "        vertical-align: middle;\n",
       "    }\n",
       "\n",
       "    .dataframe tbody tr th {\n",
       "        vertical-align: top;\n",
       "    }\n",
       "\n",
       "    .dataframe thead th {\n",
       "        text-align: right;\n",
       "    }\n",
       "</style>\n",
       "<table border=\"1\" class=\"dataframe\">\n",
       "  <thead>\n",
       "    <tr style=\"text-align: right;\">\n",
       "      <th></th>\n",
       "      <th>count</th>\n",
       "    </tr>\n",
       "    <tr>\n",
       "      <th>language_preferred</th>\n",
       "      <th></th>\n",
       "    </tr>\n",
       "  </thead>\n",
       "  <tbody>\n",
       "    <tr>\n",
       "      <th>Spanish</th>\n",
       "      <td>17</td>\n",
       "    </tr>\n",
       "    <tr>\n",
       "      <th>French</th>\n",
       "      <td>17</td>\n",
       "    </tr>\n",
       "    <tr>\n",
       "      <th>English</th>\n",
       "      <td>16</td>\n",
       "    </tr>\n",
       "  </tbody>\n",
       "</table>\n",
       "</div><br><label><b>dtype:</b> int64</label>"
      ],
      "text/plain": [
       "language_preferred\n",
       "Spanish    17\n",
       "French     17\n",
       "English    16\n",
       "Name: count, dtype: int64"
      ]
     },
     "execution_count": 16,
     "metadata": {},
     "output_type": "execute_result"
    }
   ],
   "source": [
    "# use ANOVA for 3 sample variables\n",
    "# get the levels of factor different languages\n",
    "treatments['language_preferred'].value_counts()"
   ]
  },
  {
   "cell_type": "markdown",
   "id": "sKRZuyWjIAYj",
   "metadata": {
    "id": "sKRZuyWjIAYj"
   },
   "source": [
    "### Let's write the null and alternative hypothesis\n",
    "\n",
    "Let $\\mu_1, \\mu_2, \\mu_3$ be the means of preferred languages English, French and Spanish respectively.\n",
    "\n",
    "We will test the null hypothesis\n",
    "\n",
    ">$H_0: \\mu_1 = \\mu_2 = \\mu_3$\n",
    "\n",
    "against the alternative hypothesis\n",
    "\n",
    ">$H_a: $ At least one language level is different from the rest.\n"
   ]
  },
  {
   "cell_type": "code",
   "execution_count": 15,
   "id": "kaJNZTwXIcyH",
   "metadata": {
    "colab": {
     "base_uri": "https://localhost:8080/",
     "height": 516
    },
    "id": "kaJNZTwXIcyH",
    "outputId": "73c1dfab-5308-41db-8062-b5b1d42fd9a0"
   },
   "outputs": [
    {
     "data": {
      "image/png": "[encoded data removed]",
      "text/plain": [
       "<Figure size 600x400 with 1 Axes>"
      ]
     },
     "metadata": {},
     "output_type": "display_data"
    },
    {
     "name": "stdout",
     "output_type": "stream",
     "text": [
      "----------------------------------------------------------------------------------------------------\n",
      "language_preferred\n",
      "English    6.663750\n",
      "French     6.196471\n",
      "Spanish    5.835294\n",
      "Name: time_spent_on_the_page, dtype: float64\n"
     ]
    }
   ],
   "source": [
    "# draw the boxplot for visualization\n",
    "fig, ax = plt.subplots(figsize = (6,4))\n",
    "a = sns.boxplot(x= 'language_preferred', y = 'time_spent_on_the_page' , data = treatments, hue = 'language_preferred')\n",
    "a.set_title(\"Time Spent on the Page vs Language Preferred (3 levels)\", fontsize=15)\n",
    "plt.show()\n",
    "print('--'*50)\n",
    "print(treatments.groupby('language_preferred')['time_spent_on_the_page'].mean())"
   ]
  },
  {
   "cell_type": "code",
   "execution_count": 14,
   "id": "BY9_PeEe6_2b",
   "metadata": {
    "colab": {
     "base_uri": "https://localhost:8080/"
    },
    "id": "BY9_PeEe6_2b",
    "outputId": "122826fb-5a39-4bcd-9fc0-c7ce48e6f3f4"
   },
   "outputs": [
    {
     "name": "stdout",
     "output_type": "stream",
     "text": [
      "The p-value is 0.46711357711340173\n",
      "Fail to reject the null hypothesis of homogeneity of variances.\n"
     ]
    }
   ],
   "source": [
    "#Assumption 2: Homogeneity of Variance using The levene() function of Scipy will be used to compute the test statistic and p-value.\n",
    "#import the required function\n",
    "from scipy.stats import levene\n",
    "statistic, p_value = levene( treatments['time_spent_on_the_page'][treatments['language_preferred']=='English'],\n",
    "                                   treatments['time_spent_on_the_page'][treatments['language_preferred']=='French'],\n",
    "                                   treatments['time_spent_on_the_page'][treatments['language_preferred']=='Spanish'])\n",
    "# find the p-value\n",
    "print('The p-value is', p_value)\n",
    "alpha = 0.05\n",
    "if p_value < alpha:\n",
    "    print('Reject the null hypothesis of homogeneity of variances.')\n",
    "else:\n",
    "    print('Fail to reject the null hypothesis of homogeneity of variances.')"
   ]
  },
  {
   "cell_type": "markdown",
   "id": "tzgwQUx-KHIl",
   "metadata": {
    "id": "tzgwQUx-KHIl"
   },
   "source": [
    "Check to see if we meet assumptions\n",
    "\n",
    "*   Recall, we already did Shapiro Wilks test to confirm the normality of time spent on page data.\n",
    "*   We also confirmed the homogeneity of variances from Levane's test\n",
    "*   We confirmed a random sampling\n",
    "\n",
    "Therefore, we can use the ANOVA Test"
   ]
  },
  {
   "cell_type": "code",
   "execution_count": 12,
   "id": "PCWK7Imt_IxS",
   "metadata": {
    "colab": {
     "base_uri": "https://localhost:8080/"
    },
    "id": "PCWK7Imt_IxS",
    "outputId": "3e545c3c-364a-477a-d0e9-12b118665cb6"
   },
   "outputs": [
    {
     "name": "stdout",
     "output_type": "stream",
     "text": [
      "The p-value is 0.43204138694325955\n",
      "Fail to reject the null hypothesis: No significant difference in time spent across language groups.\n"
     ]
    }
   ],
   "source": [
    "# Using the f_oneway() function of Scipy will be used to compute the test statistic and p-value.\n",
    "\n",
    "#import the required function\n",
    "from scipy.stats import f_oneway\n",
    "\n",
    "# perform one-way anova test\n",
    "test_stat, p_value = f_oneway(treatments.loc[treatments['language_preferred']=='English', 'time_spent_on_the_page'],\n",
    "                              treatments.loc[treatments['language_preferred']=='French', 'time_spent_on_the_page'],\n",
    "                              treatments.loc[treatments['language_preferred']=='Spanish', 'time_spent_on_the_page'])\n",
    "print('The p-value is ' + str(p_value))\n",
    "\n",
    "# Interpretation\n",
    "alpha = 0.05\n",
    "if p_value < alpha:\n",
    "    print(\"Reject the null hypothesis: Time spent on the new page is significantly different among language groups.\")\n",
    "else:\n",
    "    print(\"Fail to reject the null hypothesis: No significant difference in time spent across language groups.\")"
   ]
  },
  {
   "cell_type": "markdown",
   "id": "3acbc947",
   "metadata": {
    "id": "3acbc947"
   },
   "source": [
    "## Conclusion and Business Recommendations"
   ]
  },
  {
   "cell_type": "markdown",
   "id": "21fb1063",
   "metadata": {
    "id": "21fb1063"
   },
   "source": [
    "**Insights and Conclusion**\n",
    "\n",
    "100 samples consisting of users who visited both the new and old landing page were randomly selected and analyzed.\n",
    "\n",
    "The average time spent on the Control landing page is: 4.53\n",
    "\n",
    "The average time spent on the Treatment landing page is: 6.22\n",
    "\n",
    "The standard deviation of time spent on the Control page is: 2.58\n",
    "\n",
    "The standard deviation of time spent on the Treatment page is: 1.82\n",
    "\n",
    "The Conversion Rate for the control page (Old Page) is 0.4200 (42%)\n",
    "\n",
    "The Conversion Rate treatment (New Page) is 0.6600  (66%)\n",
    "\n",
    "Based on statistical evidences at significant level of 5%, we can conclude the following:\n",
    "\n",
    "*   There is no significant difference in time spent across language groups on the new landing page.\n",
    "*   that the Preferred language is not independent of conversion.\n",
    "*   that the new page has a significantly higher conversion rate than the old page.\n",
    "*   that users spend more time on the new landing page than the old landing page.\n",
    "\n",
    "**Recommendation**\n",
    "\n",
    "The business should give more time for the landing page as it looks promising with respect to the conversion rate."
   ]
  },
  {
   "cell_type": "markdown",
   "id": "U0dAd4i0iCHo",
   "metadata": {
    "id": "U0dAd4i0iCHo"
   },
   "source": [
    "___"
   ]
  }
 ],
 "metadata": {
  "colab": {
   "provenance": []
  },
  "kernelspec": {
   "display_name": "Python 3 (ipykernel)",
   "language": "python",
   "name": "python3"
  },
  "language_info": {
   "codemirror_mode": {
    "name": "ipython",
    "version": 3
   },
   "file_extension": ".py",
   "mimetype": "text/x-python",
   "name": "python",
   "nbconvert_exporter": "python",
   "pygments_lexer": "ipython3",
   "version": "3.12.4"
  }
 },
 "nbformat": 4,
 "nbformat_minor": 5
}
